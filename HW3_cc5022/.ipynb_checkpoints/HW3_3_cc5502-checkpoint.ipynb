{
 "cells": [
  {
   "cell_type": "code",
   "execution_count": 1,
   "metadata": {
    "collapsed": false
   },
   "outputs": [
    {
     "name": "stdout",
     "output_type": "stream",
     "text": [
      "Populating the interactive namespace from numpy and matplotlib\n"
     ]
    }
   ],
   "source": [
    "from __future__ import print_function\n",
    "__author__ = 'Chongyang (Connor) Chen, NYU CUSP, Class of 2016'\n",
    "import csv, requests, sys, os\n",
    "import numpy as np\n",
    "from numpy.random import randn\n",
    "import pylab as pl\n",
    "import pandas as pd"
   ]
  },
  {
   "cell_type": "code",
   "execution_count": 14,
   "metadata": {
    "collapsed": false
   },
   "outputs": [],
   "source": [
    "download_data = !curl -O https://raw.githubusercontent.com/fedhere/PUI2016_fb55/master/Lab3_fb55/times.txt\n",
    "times = pd.read_table('times.txt', header = None) #load data\n",
    "told_mean = 36\n",
    "told_sd = 6\n",
    "new_mean = times.mean()\n",
    "new_sd = times.std()"
   ]
  },
  {
   "cell_type": "markdown",
   "metadata": {
    "collapsed": true
   },
   "source": [
    "# Assignment Question: How is the new bus route for X8 improving commute times?\n",
    "## Null Hypothesis: The mean commute time for the new bus route (new_mean) is the same or longer than the old bus route (told_mean).\n",
    "## Alternate Hypothesis: The mean commute time for the new bus route (new_mean) is shorter than the old bus route (told_mean).\n",
    "    Formula\n",
    "        H0: new_mean - told_mean >= 0    \n",
    "        Ha: new_mean - told_mean < 0\n",
    "        α = 0.05\n",
    "\n",
    "### If p(Ha)-p(H0) > α, then the null hypothesis H0 is falsified at the 1-α (95%, in this case) confidence level\n",
    "### Z-Score Formula: z = (x – μ) / (σ / √n)\n",
    "### Z ~ (mean(pop) - mean(sample)) / (stdev / sqrt(N))"
   ]
  },
  {
   "cell_type": "code",
   "execution_count": 19,
   "metadata": {
    "collapsed": false
   },
   "outputs": [
    {
     "name": "stdout",
     "output_type": "stream",
     "text": [
      "0    2.556397\n",
      "dtype: float64\n"
     ]
    }
   ],
   "source": [
    "z = (told_mean - new_mean)/(told_sd/np.sqrt(len(times)))\n",
    "print(z)"
   ]
  },
  {
   "cell_type": "markdown",
   "metadata": {},
   "source": [
    "## Since Z-Score > 2, which means the told_mean value is more than 2 standard deviation above the new_mean, reject the null hypothesis. Based on a 95% confidence level, the new bus route "
   ]
  }
 ],
 "metadata": {
  "kernelspec": {
   "display_name": "Python 2",
   "language": "python",
   "name": "python2"
  },
  "language_info": {
   "codemirror_mode": {
    "name": "ipython",
    "version": 2
   },
   "file_extension": ".py",
   "mimetype": "text/x-python",
   "name": "python",
   "nbconvert_exporter": "python",
   "pygments_lexer": "ipython2",
   "version": "2.7.11"
  }
 },
 "nbformat": 4,
 "nbformat_minor": 0
}
