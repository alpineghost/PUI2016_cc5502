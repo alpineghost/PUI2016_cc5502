{
 "cells": [
  {
   "cell_type": "code",
   "execution_count": 14,
   "metadata": {
    "collapsed": true
   },
   "outputs": [],
   "source": [
    "import pandas as pd, numpy as np, scipy "
   ]
  },
  {
   "cell_type": "code",
   "execution_count": 2,
   "metadata": {
    "collapsed": true
   },
   "outputs": [],
   "source": [
    "citibike = pd.read_csv('201609-citibike-tripdata.csv')"
   ]
  },
  {
   "cell_type": "code",
   "execution_count": 3,
   "metadata": {
    "collapsed": false
   },
   "outputs": [
    {
     "data": {
      "text/html": [
       "<div>\n",
       "<table border=\"1\" class=\"dataframe\">\n",
       "  <thead>\n",
       "    <tr style=\"text-align: right;\">\n",
       "      <th></th>\n",
       "      <th>tripduration</th>\n",
       "      <th>starttime</th>\n",
       "      <th>stoptime</th>\n",
       "      <th>start station id</th>\n",
       "      <th>start station name</th>\n",
       "      <th>start station latitude</th>\n",
       "      <th>start station longitude</th>\n",
       "      <th>end station id</th>\n",
       "      <th>end station name</th>\n",
       "      <th>end station latitude</th>\n",
       "      <th>end station longitude</th>\n",
       "      <th>bikeid</th>\n",
       "      <th>usertype</th>\n",
       "      <th>birth year</th>\n",
       "      <th>gender</th>\n",
       "    </tr>\n",
       "  </thead>\n",
       "  <tbody>\n",
       "    <tr>\n",
       "      <th>0</th>\n",
       "      <td>975</td>\n",
       "      <td>9/1/2016 00:00:02</td>\n",
       "      <td>9/1/2016 00:16:18</td>\n",
       "      <td>312</td>\n",
       "      <td>Allen St &amp; Stanton St</td>\n",
       "      <td>40.722055</td>\n",
       "      <td>-73.989111</td>\n",
       "      <td>313</td>\n",
       "      <td>Washington Ave &amp; Park Ave</td>\n",
       "      <td>40.696102</td>\n",
       "      <td>-73.967510</td>\n",
       "      <td>22609</td>\n",
       "      <td>Subscriber</td>\n",
       "      <td>1985.0</td>\n",
       "      <td>1</td>\n",
       "    </tr>\n",
       "    <tr>\n",
       "      <th>1</th>\n",
       "      <td>1220</td>\n",
       "      <td>9/1/2016 00:00:04</td>\n",
       "      <td>9/1/2016 00:20:25</td>\n",
       "      <td>316</td>\n",
       "      <td>Fulton St &amp; William St</td>\n",
       "      <td>40.709560</td>\n",
       "      <td>-74.006536</td>\n",
       "      <td>239</td>\n",
       "      <td>Willoughby St &amp; Fleet St</td>\n",
       "      <td>40.691966</td>\n",
       "      <td>-73.981302</td>\n",
       "      <td>16966</td>\n",
       "      <td>Subscriber</td>\n",
       "      <td>1977.0</td>\n",
       "      <td>2</td>\n",
       "    </tr>\n",
       "    <tr>\n",
       "      <th>2</th>\n",
       "      <td>308</td>\n",
       "      <td>9/1/2016 00:00:19</td>\n",
       "      <td>9/1/2016 00:05:27</td>\n",
       "      <td>479</td>\n",
       "      <td>9 Ave &amp; W 45 St</td>\n",
       "      <td>40.760193</td>\n",
       "      <td>-73.991255</td>\n",
       "      <td>448</td>\n",
       "      <td>W 37 St &amp; 10 Ave</td>\n",
       "      <td>40.756604</td>\n",
       "      <td>-73.997901</td>\n",
       "      <td>25601</td>\n",
       "      <td>Subscriber</td>\n",
       "      <td>1983.0</td>\n",
       "      <td>1</td>\n",
       "    </tr>\n",
       "    <tr>\n",
       "      <th>3</th>\n",
       "      <td>250</td>\n",
       "      <td>9/1/2016 00:00:25</td>\n",
       "      <td>9/1/2016 00:04:35</td>\n",
       "      <td>297</td>\n",
       "      <td>E 15 St &amp; 3 Ave</td>\n",
       "      <td>40.734232</td>\n",
       "      <td>-73.986923</td>\n",
       "      <td>487</td>\n",
       "      <td>E 20 St &amp; FDR Drive</td>\n",
       "      <td>40.733143</td>\n",
       "      <td>-73.975739</td>\n",
       "      <td>22094</td>\n",
       "      <td>Subscriber</td>\n",
       "      <td>1953.0</td>\n",
       "      <td>1</td>\n",
       "    </tr>\n",
       "    <tr>\n",
       "      <th>4</th>\n",
       "      <td>439</td>\n",
       "      <td>9/1/2016 00:00:25</td>\n",
       "      <td>9/1/2016 00:07:45</td>\n",
       "      <td>494</td>\n",
       "      <td>W 26 St &amp; 8 Ave</td>\n",
       "      <td>40.747348</td>\n",
       "      <td>-73.997236</td>\n",
       "      <td>533</td>\n",
       "      <td>Broadway &amp; W 39 St</td>\n",
       "      <td>40.752996</td>\n",
       "      <td>-73.987216</td>\n",
       "      <td>16319</td>\n",
       "      <td>Subscriber</td>\n",
       "      <td>1985.0</td>\n",
       "      <td>1</td>\n",
       "    </tr>\n",
       "  </tbody>\n",
       "</table>\n",
       "</div>"
      ],
      "text/plain": [
       "   tripduration          starttime           stoptime  start station id  \\\n",
       "0           975  9/1/2016 00:00:02  9/1/2016 00:16:18               312   \n",
       "1          1220  9/1/2016 00:00:04  9/1/2016 00:20:25               316   \n",
       "2           308  9/1/2016 00:00:19  9/1/2016 00:05:27               479   \n",
       "3           250  9/1/2016 00:00:25  9/1/2016 00:04:35               297   \n",
       "4           439  9/1/2016 00:00:25  9/1/2016 00:07:45               494   \n",
       "\n",
       "       start station name  start station latitude  start station longitude  \\\n",
       "0   Allen St & Stanton St               40.722055               -73.989111   \n",
       "1  Fulton St & William St               40.709560               -74.006536   \n",
       "2         9 Ave & W 45 St               40.760193               -73.991255   \n",
       "3         E 15 St & 3 Ave               40.734232               -73.986923   \n",
       "4         W 26 St & 8 Ave               40.747348               -73.997236   \n",
       "\n",
       "   end station id           end station name  end station latitude  \\\n",
       "0             313  Washington Ave & Park Ave             40.696102   \n",
       "1             239   Willoughby St & Fleet St             40.691966   \n",
       "2             448           W 37 St & 10 Ave             40.756604   \n",
       "3             487        E 20 St & FDR Drive             40.733143   \n",
       "4             533         Broadway & W 39 St             40.752996   \n",
       "\n",
       "   end station longitude  bikeid    usertype  birth year  gender  \n",
       "0             -73.967510   22609  Subscriber      1985.0       1  \n",
       "1             -73.981302   16966  Subscriber      1977.0       2  \n",
       "2             -73.997901   25601  Subscriber      1983.0       1  \n",
       "3             -73.975739   22094  Subscriber      1953.0       1  \n",
       "4             -73.987216   16319  Subscriber      1985.0       1  "
      ]
     },
     "execution_count": 3,
     "metadata": {},
     "output_type": "execute_result"
    }
   ],
   "source": [
    "citibike.head()"
   ]
  },
  {
   "cell_type": "code",
   "execution_count": 42,
   "metadata": {
    "collapsed": false
   },
   "outputs": [
    {
     "data": {
      "text/html": [
       "<div>\n",
       "<table border=\"1\" class=\"dataframe\">\n",
       "  <thead>\n",
       "    <tr style=\"text-align: right;\">\n",
       "      <th></th>\n",
       "      <th>id</th>\n",
       "      <th>name</th>\n",
       "      <th>lat</th>\n",
       "      <th>long</th>\n",
       "    </tr>\n",
       "  </thead>\n",
       "  <tbody>\n",
       "    <tr>\n",
       "      <th>0</th>\n",
       "      <td>312</td>\n",
       "      <td>Allen St &amp; Stanton St</td>\n",
       "      <td>40.722055</td>\n",
       "      <td>-73.989111</td>\n",
       "    </tr>\n",
       "    <tr>\n",
       "      <th>1</th>\n",
       "      <td>316</td>\n",
       "      <td>Fulton St &amp; William St</td>\n",
       "      <td>40.709560</td>\n",
       "      <td>-74.006536</td>\n",
       "    </tr>\n",
       "    <tr>\n",
       "      <th>2</th>\n",
       "      <td>479</td>\n",
       "      <td>9 Ave &amp; W 45 St</td>\n",
       "      <td>40.760193</td>\n",
       "      <td>-73.991255</td>\n",
       "    </tr>\n",
       "    <tr>\n",
       "      <th>3</th>\n",
       "      <td>297</td>\n",
       "      <td>E 15 St &amp; 3 Ave</td>\n",
       "      <td>40.734232</td>\n",
       "      <td>-73.986923</td>\n",
       "    </tr>\n",
       "    <tr>\n",
       "      <th>4</th>\n",
       "      <td>494</td>\n",
       "      <td>W 26 St &amp; 8 Ave</td>\n",
       "      <td>40.747348</td>\n",
       "      <td>-73.997236</td>\n",
       "    </tr>\n",
       "  </tbody>\n",
       "</table>\n",
       "</div>"
      ],
      "text/plain": [
       "    id                    name        lat       long\n",
       "0  312   Allen St & Stanton St  40.722055 -73.989111\n",
       "1  316  Fulton St & William St  40.709560 -74.006536\n",
       "2  479         9 Ave & W 45 St  40.760193 -73.991255\n",
       "3  297         E 15 St & 3 Ave  40.734232 -73.986923\n",
       "4  494         W 26 St & 8 Ave  40.747348 -73.997236"
      ]
     },
     "execution_count": 42,
     "metadata": {},
     "output_type": "execute_result"
    }
   ],
   "source": [
    "citibike1 = citibike.iloc[:,3:7]\n",
    "citibike1.head()\n",
    "citibike2 = citibike1.drop_duplicates()\n",
    "citibike2.columns = ['id', 'name', 'lat', 'long']\n",
    "citibike2.head()"
   ]
  },
  {
   "cell_type": "code",
   "execution_count": 47,
   "metadata": {
    "collapsed": false
   },
   "outputs": [],
   "source": [
    "citibike2.to_csv('citbike stations.csv', index = False)"
   ]
  },
  {
   "cell_type": "code",
   "execution_count": null,
   "metadata": {
    "collapsed": true
   },
   "outputs": [],
   "source": []
  }
 ],
 "metadata": {
  "kernelspec": {
   "display_name": "Python 2",
   "language": "python",
   "name": "python2"
  },
  "language_info": {
   "codemirror_mode": {
    "name": "ipython",
    "version": 2
   },
   "file_extension": ".py",
   "mimetype": "text/x-python",
   "name": "python",
   "nbconvert_exporter": "python",
   "pygments_lexer": "ipython2",
   "version": "2.7.11"
  }
 },
 "nbformat": 4,
 "nbformat_minor": 0
}
