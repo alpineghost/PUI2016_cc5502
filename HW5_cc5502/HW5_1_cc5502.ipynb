{
 "cells": [
  {
   "cell_type": "code",
   "execution_count": 26,
   "metadata": {
    "collapsed": false,
    "scrolled": true
   },
   "outputs": [
    {
     "name": "stdout",
     "output_type": "stream",
     "text": [
      "Populating the interactive namespace from numpy and matplotlib\n"
     ]
    }
   ],
   "source": [
    "import pylab as pl\n",
    "import pandas as pd\n",
    "import numpy as np\n",
    "%pylab inline"
   ]
  },
  {
   "cell_type": "code",
   "execution_count": 20,
   "metadata": {
    "collapsed": false
   },
   "outputs": [],
   "source": [
    "#Loading Citibike Data\n",
    "#os.system('curl -O https://s3.amazonaws.com/tripdata/201609-citibike-tripdata.zip')\n",
    "#os.system('unzip 201609-citibike-tripdata.zip')\n",
    "df = pd.read_csv('201609-citibike-tripdata.csv')\n",
    "df[\"age\"] = 2016 - df['birth year'][(df['usertype'] == 'Subscriber')] #Adding age variable into data\n",
    "df = df.dropna(subset=['birth year'])\n",
    "Age = df[\"age\"]\n",
    "Age = Age.dropna()"
   ]
  },
  {
   "cell_type": "code",
   "execution_count": 45,
   "metadata": {
    "collapsed": false
   },
   "outputs": [
    {
     "data": {
      "text/plain": [
       "<matplotlib.text.Text at 0x118d85a10>"
      ]
     },
     "execution_count": 45,
     "metadata": {},
     "output_type": "execute_result"
    },
    {
     "data": {
      "image/png": "[encoded data removed]",
      "text/plain": [
       "<matplotlib.figure.Figure at 0x152f14410>"
      ]
     },
     "metadata": {},
     "output_type": "display_data"
    }
   ],
   "source": [
    "from scipy.stats import norm\n",
    "(mu, sigma) = norm.fit(Age)\n",
    "n, bins, patches = plt.hist(Age, 100, normed=1, facecolor='green', alpha=0.75)\n",
    "y = pl.normpdf(bins, mu, sigma)\n",
    "l = pl.plot(bins, y, 'r--', linewidth=2)\n",
    "pl.xlabel('Age', fontsize = 18)\n",
    "pl.ylabel('Counts', fontsize = 18)\n",
    "pl.title('Histogram and Fit Curve',fontsize = 18)"
   ]
  },
  {
   "cell_type": "markdown",
   "metadata": {},
   "source": [
    "The distribution is left-skewed and does not seem to fit the gaussian perfectly. However, It might still be a distribution drawn by a gaussian distribution. "
   ]
  },
  {
   "cell_type": "markdown",
   "metadata": {},
   "source": [
    "## KS Test\n",
    "\n",
    "$H_0$ : The age distribution of Citibike subscribers in September 2016 is drawn from gaussian distribution with a mean of 37.6764255312 year and standard deviation of 11.6243488656.\n",
    "\n",
    "$H_a$ : The age distribution of Citibike subcribers in Septermber 2016 is not drawn from the gaussian distribution\n",
    "\n",
    "Use $\\alpha$ = 0.05"
   ]
  },
  {
   "cell_type": "code",
   "execution_count": 28,
   "metadata": {
    "collapsed": false
   },
   "outputs": [
    {
     "data": {
      "text/plain": [
       "KstestResult(statistic=0.10886008432288197, pvalue=0.0)"
      ]
     },
     "execution_count": 28,
     "metadata": {},
     "output_type": "execute_result"
    }
   ],
   "source": [
    "from scipy.stats import kstest\n",
    "kstest(Age, \"norm\", args=(mu, sigma))"
   ]
  },
  {
   "cell_type": "markdown",
   "metadata": {},
   "source": [
    "### Since p-value is 0, reject the null hypothesis that the age distribution is drawn from the gaussian distribution with said parameters. "
   ]
  },
  {
   "cell_type": "markdown",
   "metadata": {},
   "source": [
    "## Anderson-Darling Test\n",
    "\n",
    "$H_0$ : The age distribution of Citibike subscribers in September 2016 is drawn from a gaussian distribution\n",
    "\n",
    "$H_a$ : The age distribution of Citibike subcribers in Septermber 2016 is not drawn from a gaussian distribution\n",
    "\n",
    "Use $\\alpha$ = 0.05"
   ]
  },
  {
   "cell_type": "code",
   "execution_count": 43,
   "metadata": {
    "collapsed": false
   },
   "outputs": [
    {
     "data": {
      "text/plain": [
       "True"
      ]
     },
     "execution_count": 43,
     "metadata": {},
     "output_type": "execute_result"
    }
   ],
   "source": [
    "from scipy.stats import anderson\n",
    "anderson(Age)[1][2] < anderson(Age)[2][2]"
   ]
  },
  {
   "cell_type": "markdown",
   "metadata": {},
   "source": [
    "## On a 0.05 significance level, reject the null hypothesis that the age distribution is drawn from the gaussian distribution. "
   ]
  },
  {
   "cell_type": "markdown",
   "metadata": {},
   "source": [
    "## Testing goodness of fit using Logistic distribution\n",
    "## KS test\n",
    "\n",
    "$H_0$ : The age distribution of Citibike subscribers in September 2016 is drawn from a logistic distribution with a mean of 37.6764255312 year and standard deviation of 11.6243488656\n",
    "\n",
    "$H_a$ : The age distribution of Citibike subcribers in Septermber 2016 is not drawn from the logistic distribution\n",
    "\n",
    "Use $\\alpha$ = 0.05"
   ]
  },
  {
   "cell_type": "code",
   "execution_count": 83,
   "metadata": {
    "collapsed": false
   },
   "outputs": [
    {
     "data": {
      "text/plain": [
       "KstestResult(statistic=0.99999988746483792, pvalue=0.0)"
      ]
     },
     "execution_count": 83,
     "metadata": {},
     "output_type": "execute_result"
    }
   ],
   "source": [
    "kstest(Age, 'logistic')"
   ]
  },
  {
   "cell_type": "markdown",
   "metadata": {},
   "source": [
    "## Since p-value is 0, on a 0.05 significance level, reject the null hypothesis that the age distribution is drawn from the logistic distribution. "
   ]
  },
  {
   "cell_type": "markdown",
   "metadata": {},
   "source": [
    "## Anderson-Darling Test\n",
    "\n",
    "$H_0$ : The age distribution of Citibike subscribers in September 2016 is drawn from a logistic distribution\n",
    "\n",
    "$H_a$ : The age distribution of Citibike subcribers in Septermber 2016 is not drawn from a logistic distribution\n",
    "\n",
    "Use $\\alpha$ = 0.05"
   ]
  },
  {
   "cell_type": "code",
   "execution_count": 78,
   "metadata": {
    "collapsed": false
   },
   "outputs": [
    {
     "data": {
      "text/plain": [
       "True"
      ]
     },
     "execution_count": 78,
     "metadata": {},
     "output_type": "execute_result"
    }
   ],
   "source": [
    "anderson(Age,'logistic')[1][2] < anderson(Age,'logistic')[2][2]"
   ]
  },
  {
   "cell_type": "markdown",
   "metadata": {},
   "source": [
    "## On a 0.05 significance level, reject the null hypothesis that the age distribution is drawn from a logistic distribution. "
   ]
  }
 ],
 "metadata": {
  "kernelspec": {
   "display_name": "Python 2",
   "language": "python",
   "name": "python2"
  },
  "language_info": {
   "codemirror_mode": {
    "name": "ipython",
    "version": 2
   },
   "file_extension": ".py",
   "mimetype": "text/x-python",
   "name": "python",
   "nbconvert_exporter": "python",
   "pygments_lexer": "ipython2",
   "version": "2.7.11"
  }
 },
 "nbformat": 4,
 "nbformat_minor": 0
}
